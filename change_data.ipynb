{
 "cells": [
  {
   "cell_type": "code",
   "execution_count": 1,
   "metadata": {},
   "outputs": [],
   "source": [
    "import openai\n",
    "import json"
   ]
  },
  {
   "cell_type": "code",
   "execution_count": 7,
   "metadata": {},
   "outputs": [
    {
     "name": "stdout",
     "output_type": "stream",
     "text": [
      "{'data': [{'Country': 'Andorra', 'Capital': 'Andorra la Vella', 'Population': 84000, 'Area_km2': 468}, {'Country': 'United Arab Emirates', 'Capital': 'Abu Dhabi', 'Population': 4975593, 'Area_km2': 82880}, {'Country': 'Afghanistan', 'Capital': 'Kabul', 'Population': 29121286, 'Area_km2': 647500}, {'Country': 'Antigua and Barbuda', 'Capital': \"St. John's\", 'Population': 86754, 'Area_km2': 443}, {'Country': 'Anguilla', 'Capital': 'The Valley', 'Population': 13254, 'Area_km2': 102}, {'Country': 'Albania', 'Capital': 'Tirana', 'Population': 2986952, 'Area_km2': 28748}, {'Country': 'Armenia', 'Capital': 'Yerevan', 'Population': 2968000, 'Area_km2': 29800}, {'Country': 'Angola', 'Capital': 'Luanda', 'Population': 13068161, 'Area_km2': 1246700}, {'Country': 'Antarctica', 'Capital': 'None', 'Population': 0, 'Area_km2': 14000000}, {'Country': 'Argentina', 'Capital': 'Buenos Aires', 'Population': 41343201, 'Area_km2': 2766890}]}\n"
     ]
    }
   ],
   "source": [
    "import json\n",
    "\n",
    "file_path = 'data/structured_data_clean.json'\n",
    "\n",
    "# Open the file in read mode ('r') and load its contents\n",
    "try:\n",
    "    with open(file_path, 'r') as file:\n",
    "        data = json.load(file)\n",
    "    \n",
    "    # The JSON data is now stored in the 'data' variable.\n",
    "    print(data)\n",
    "\n",
    "except FileNotFoundError:\n",
    "    print(f\"Error: The file '{file_path}' was not found.\")\n",
    "except json.JSONDecodeError:\n",
    "    print(f\"Error: Could not decode JSON from the file '{file_path}'. Check if the file is valid JSON.\")\n",
    "\n"
   ]
  },
  {
   "cell_type": "code",
   "execution_count": 12,
   "metadata": {},
   "outputs": [
    {
     "data": {
      "text/plain": [
       "dict"
      ]
     },
     "execution_count": 12,
     "metadata": {},
     "output_type": "execute_result"
    }
   ],
   "source": [
    "type(data)"
   ]
  },
  {
   "cell_type": "code",
   "execution_count": null,
   "metadata": {},
   "outputs": [],
   "source": []
  }
 ],
 "metadata": {
  "kernelspec": {
   "display_name": "Python 3",
   "language": "python",
   "name": "python3"
  },
  "language_info": {
   "codemirror_mode": {
    "name": "ipython",
    "version": 3
   },
   "file_extension": ".py",
   "mimetype": "text/x-python",
   "name": "python",
   "nbconvert_exporter": "python",
   "pygments_lexer": "ipython3",
   "version": "3.13.1"
  }
 },
 "nbformat": 4,
 "nbformat_minor": 2
}
